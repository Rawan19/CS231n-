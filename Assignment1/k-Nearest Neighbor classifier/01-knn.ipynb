{
  "cells": [
    {
      "metadata": {},
      "cell_type": "markdown",
      "source": "# 01 - KNN using L2 distance\n\nFor more info about this code, follow:\n\n* https://www.tensorflow.org/get_started/mnist/beginners : the section\n  about the mnist database\n* https://github.com/aymericdamien/TensorFlow-Examples/blob/master/notebooks/2_BasicModels/nearest_neighbor.ipynb\n* http://nbviewer.jupyter.org/github/temporaer/tutorial_ml_gkbionics/blob/master/2%20-%20KMeans.ipynb : the section about k-means on image\n"
    },
    {
      "metadata": {},
      "cell_type": "markdown",
      "source": "## Getting the data\n\nLet's keep it simple, we won't linearly scales image to have zero mean and unit norm."
    },
    {
      "metadata": {
        "trusted": false
      },
      "cell_type": "code",
      "source": "# needed libraries\nimport matplotlib.pyplot as plt\nimport tensorflow as tf\nimport numpy as np",
      "execution_count": 1,
      "outputs": []
    },
    {
      "metadata": {
        "trusted": false
      },
      "cell_type": "code",
      "source": "from tensorflow.examples.tutorials.mnist import input_data\n\n# mnist.train = 55,000 input data\n# mnist.test = 10,000 input data\n# mnist.validate = 5,000 input data\nmnist = input_data.read_data_sets(\"MNIST_data/\", one_hot=True)\n\n# to make it simpler let's limit the train and test data set\n# train: 2000 input data\n# test: 500 input data\ntrain_x, train_y = mnist.train.next_batch(2000)\ntest_x, test_y = mnist.test.next_batch(500)",
      "execution_count": 2,
      "outputs": [
        {
          "name": "stderr",
          "output_type": "stream",
          "text": "/home/nbuser/anaconda2_501/lib/python2.7/site-packages/h5py/__init__.py:34: RuntimeWarning: numpy.dtype size changed, may indicate binary incompatibility. Expected 96, got 88\n  from ._conv import register_converters as _register_converters\n/home/nbuser/anaconda2_501/lib/python2.7/site-packages/h5py/__init__.py:34: FutureWarning: Conversion of the second argument of issubdtype from `float` to `np.floating` is deprecated. In future, it will be treated as `np.float64 == np.dtype(float).type`.\n  from ._conv import register_converters as _register_converters\n/home/nbuser/anaconda2_501/lib/python2.7/site-packages/h5py/__init__.py:43: RuntimeWarning: numpy.dtype size changed, may indicate binary incompatibility. Expected 96, got 88\n  from . import h5a, h5d, h5ds, h5f, h5fd, h5g, h5r, h5s, h5t, h5p, h5z\n/home/nbuser/anaconda2_501/lib/python2.7/site-packages/h5py/_hl/group.py:24: RuntimeWarning: numpy.dtype size changed, may indicate binary incompatibility. Expected 96, got 88\n  from .. import h5g, h5i, h5o, h5r, h5t, h5l, h5p\n"
        },
        {
          "name": "stdout",
          "output_type": "stream",
          "text": "Successfully downloaded train-images-idx3-ubyte.gz 9912422 bytes.\nExtracting MNIST_data/train-images-idx3-ubyte.gz\nSuccessfully downloaded train-labels-idx1-ubyte.gz 28881 bytes.\nExtracting MNIST_data/train-labels-idx1-ubyte.gz\nSuccessfully downloaded t10k-images-idx3-ubyte.gz 1648877 bytes.\nExtracting MNIST_data/t10k-images-idx3-ubyte.gz\nSuccessfully downloaded t10k-labels-idx1-ubyte.gz 4542 bytes.\nExtracting MNIST_data/t10k-labels-idx1-ubyte.gz\n"
        }
      ]
    },
    {
      "metadata": {},
      "cell_type": "markdown",
      "source": "Let's look at a few examples from the train dataset"
    },
    {
      "metadata": {
        "trusted": false
      },
      "cell_type": "code",
      "source": "plt.rc(\"image\", cmap=\"binary\")  # use black/white palette for plotting\nfor i in xrange(10):\n    plt.subplot(2, 5, i + 1)\n    plt.imshow(train_x[i].reshape(28, 28))\n    plt.xticks(())\n    plt.yticks(())\nplt.tight_layout()\nplt.show()",
      "execution_count": 3,
      "outputs": [
        {
          "data": {
            "image/png": "[encoded data removed]",
            "text/plain": "<matplotlib.figure.Figure at 0x7f2fb5902e10>"
          },
          "metadata": {},
          "output_type": "display_data"
        }
      ]
    },
    {
      "metadata": {},
      "cell_type": "markdown",
      "source": "## Implementing a simple KNN with Tensorflow\n\nOkay, so let's implement the KNN (I assume you understand how KNN works, if you don't please have a look at the references in the beginning of this file), we will have only a predict function, there's no train phase.\n\nIn the code bellow k = 1."
    },
    {
      "metadata": {
        "trusted": false
      },
      "cell_type": "code",
      "source": "# number of neighboors\nK = 5\n\n# tf Graph Input\nph_train = tf.placeholder(\"float\", [None, 784])\nph_test = tf.placeholder(\"float\", [784])\n\n# Calculate L2 Distance\ndistance = tf.negative(tf.sqrt(tf.reduce_sum(\n                       tf.square(tf.add(ph_train, tf.negative(ph_test))),\n                       reduction_indices=1)))\n \n# Prediction: Get K min distance index (Nearest neighbor)\npred_values_indices = tf.nn.top_k(distance, k=K, sorted=False)\n\n# Initializing the variables\ninit = tf.global_variables_initializer()\n",
      "execution_count": 4,
      "outputs": []
    },
    {
      "metadata": {},
      "cell_type": "markdown",
      "source": "## Running the graph with TF"
    },
    {
      "metadata": {
        "trusted": false
      },
      "cell_type": "code",
      "source": "correct_class = 0\nnum_steps = 3000\n\nwith tf.Session() as session:\n    \n    session.run(init)\n    \n    for i in range(len(test_x)):\n        values_indices = session.run(pred_values_indices,\n                                feed_dict={\n                                    ph_train: train_x,\n                                    ph_test: test_x[i, :]})\n        \n        # predicting label for test data\n        counter = np.zeros(10)   \n        for j in xrange(K):\n            counter[np.argmax(train_y[values_indices.indices[j]])] += 1\n\n        prediction = np.argmax(counter)\n        \n        if prediction == np.argmax(test_y[i]):\n            correct_class += 1.0\n\n    print 'Done!'\n    print 'Accuracy:', (correct_class / len(test_x)) * 100, '%'",
      "execution_count": null,
      "outputs": []
    }
  ],
  "metadata": {
    "kernelspec": {
      "name": "python2",
      "display_name": "Python 2",
      "language": "python"
    },
    "language_info": {
      "mimetype": "text/x-python",
      "nbconvert_exporter": "python",
      "name": "python",
      "pygments_lexer": "ipython2",
      "version": "2.7.15",
      "file_extension": ".py",
      "codemirror_mode": {
        "version": 2,
        "name": "ipython"
      }
    }
  },
  "nbformat": 4,
  "nbformat_minor": 2
}